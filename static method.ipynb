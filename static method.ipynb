{
 "cells": [
  {
   "cell_type": "code",
   "execution_count": 4,
   "id": "8e0969d2-f694-44fe-bc1d-28c7277c6677",
   "metadata": {},
   "outputs": [],
   "source": [
    "class pwskills :\n",
    "    \n",
    "    def student_details(self , name , mail_id , number) :\n",
    "        print(name , mail_id , number)"
   ]
  },
  {
   "cell_type": "code",
   "execution_count": 5,
   "id": "ac1246d7-c338-41fc-a379-7d979657dbb7",
   "metadata": {},
   "outputs": [],
   "source": [
    "pw = pwskills()"
   ]
  },
  {
   "cell_type": "code",
   "execution_count": 6,
   "id": "eb511ba5-560f-4b59-a0e2-f9ab48e2e6bd",
   "metadata": {},
   "outputs": [
    {
     "name": "stdout",
     "output_type": "stream",
     "text": [
      "sid sid@gmail.com 9865471230\n"
     ]
    }
   ],
   "source": [
    "pw.student_details(\"sid\" , \"sid@gmail.com\" , 9865471230)"
   ]
  },
  {
   "cell_type": "code",
   "execution_count": 2,
   "id": "82560516-eb86-44f7-ac5f-0689bb82230b",
   "metadata": {},
   "outputs": [],
   "source": [
    "class pwskills1 :\n",
    "    \n",
    "    def student_details(self , name , mail_id , number) :\n",
    "        print(name , mail_id , number)\n",
    "        \n",
    "    @staticmethod\n",
    "    def mentor_class(list_mentor) :\n",
    "        print(list_mentor)\n",
    "        \n",
    "    def mentor(self ,mentor_list):\n",
    "        print(mentor_list)"
   ]
  },
  {
   "cell_type": "code",
   "execution_count": 3,
   "id": "d48f58dc-7860-40ad-9715-abb5e5ba21c8",
   "metadata": {},
   "outputs": [
    {
     "name": "stdout",
     "output_type": "stream",
     "text": [
      "['sudh', 'krish']\n"
     ]
    }
   ],
   "source": [
    "pwskills1.mentor_class([\"sudh\" , \"krish\"])"
   ]
  },
  {
   "cell_type": "code",
   "execution_count": 4,
   "id": "16f295c0-63ca-49d8-814f-19d8994ffb75",
   "metadata": {},
   "outputs": [],
   "source": [
    "stu1 = pwskills1()"
   ]
  },
  {
   "cell_type": "code",
   "execution_count": 5,
   "id": "616dbcde-b0b1-4c81-a2c2-cbf094dbe2e6",
   "metadata": {},
   "outputs": [],
   "source": [
    "stu2 = pwskills1()"
   ]
  },
  {
   "cell_type": "code",
   "execution_count": 6,
   "id": "021d2789-3601-4051-aad1-3d2b4e84d564",
   "metadata": {},
   "outputs": [],
   "source": [
    "stu3 = pwskills1()"
   ]
  },
  {
   "cell_type": "code",
   "execution_count": 7,
   "id": "cef57448-fdf4-4b70-897d-5d76ad27c9e5",
   "metadata": {},
   "outputs": [
    {
     "name": "stdout",
     "output_type": "stream",
     "text": [
      "['sudh', 'krish']\n"
     ]
    }
   ],
   "source": [
    "stu1.mentor([\"sudh\" , \"krish\"])"
   ]
  },
  {
   "cell_type": "code",
   "execution_count": 14,
   "id": "f4f3ebf2-f79a-4ccd-81b2-9b27f9afceb2",
   "metadata": {},
   "outputs": [],
   "source": [
    "class pwskills2 :\n",
    "    \n",
    "    def student_details(self , name , mail_id , number) :\n",
    "        print(name , mail_id , number)\n",
    "        \n",
    "    @staticmethod\n",
    "    def mentor_mail_id(mail_id_mentor) :\n",
    "        print(mail_id_mentor)\n",
    "        \n",
    "        \n",
    "    @staticmethod\n",
    "    def mentor_class(list_mentor) :\n",
    "        pwskills2.mentor_mail_id([\"sudh@gmail.com\" , \"krish@gmail.com\"])\n",
    "        print(list_mentor)\n",
    "        \n",
    "    @classmethod\n",
    "    def class_name(cls):\n",
    "        cls.mentor_class([\"sudh\" , \"krish\"])\n",
    "        \n",
    "        \n",
    "        \n",
    "    def mentor(self ,mentor_list):\n",
    "        print(mentor_list)\n",
    "        self.mentor_class([\"krish\" , \"sudh\"])"
   ]
  },
  {
   "cell_type": "code",
   "execution_count": 15,
   "id": "66da3a67-488a-496e-bfaf-555ed0880c3c",
   "metadata": {},
   "outputs": [
    {
     "name": "stdout",
     "output_type": "stream",
     "text": [
      "['sudh@gmail.com', 'krish@gmail.com']\n",
      "['krish', 'sudh']\n"
     ]
    }
   ],
   "source": [
    "pwskills2.mentor_class([\"krish\" , \"sudh\"])"
   ]
  },
  {
   "cell_type": "code",
   "execution_count": 16,
   "id": "f42bbf2b-13e9-430d-90a9-3ee8dbc8230f",
   "metadata": {},
   "outputs": [
    {
     "name": "stdout",
     "output_type": "stream",
     "text": [
      "['sudh@gmail.com', 'krish@gmail.com']\n",
      "['sudh', 'krish']\n"
     ]
    }
   ],
   "source": [
    "pwskills2.class_name()"
   ]
  },
  {
   "cell_type": "code",
   "execution_count": 17,
   "id": "b9da88b1-d6f2-4224-b7e1-38d7d813e04a",
   "metadata": {},
   "outputs": [],
   "source": [
    "pw = pwskills2()"
   ]
  },
  {
   "cell_type": "code",
   "execution_count": 18,
   "id": "74433885-f48b-4e39-be81-265e0759f25a",
   "metadata": {},
   "outputs": [
    {
     "name": "stdout",
     "output_type": "stream",
     "text": [
      "['krish', 'sudh']\n",
      "['sudh@gmail.com', 'krish@gmail.com']\n",
      "['krish', 'sudh']\n"
     ]
    }
   ],
   "source": [
    "pw.mentor([\"krish\" , \"sudh\"])"
   ]
  },
  {
   "cell_type": "code",
   "execution_count": null,
   "id": "d9e7d001-1cdb-4b78-a2f7-dad5a779a527",
   "metadata": {},
   "outputs": [],
   "source": []
  }
 ],
 "metadata": {
  "kernelspec": {
   "display_name": "Python 3 (ipykernel)",
   "language": "python",
   "name": "python3"
  },
  "language_info": {
   "codemirror_mode": {
    "name": "ipython",
    "version": 3
   },
   "file_extension": ".py",
   "mimetype": "text/x-python",
   "name": "python",
   "nbconvert_exporter": "python",
   "pygments_lexer": "ipython3",
   "version": "3.10.8"
  }
 },
 "nbformat": 4,
 "nbformat_minor": 5
}
